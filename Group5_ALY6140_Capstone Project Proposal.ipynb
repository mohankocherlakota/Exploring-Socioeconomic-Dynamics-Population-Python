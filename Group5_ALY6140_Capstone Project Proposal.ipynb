{
 "cells": [
  {
   "cell_type": "code",
   "execution_count": 57,
   "id": "21fb5399",
   "metadata": {},
   "outputs": [
    {
     "name": "stdout",
     "output_type": "stream",
     "text": [
      "                   HEFAMINC    HWHHWGT                  HRINTSTA  \\\n",
      "0     (04) 10,000 to 12,499  1836.3750             (1) Interview   \n",
      "1     (10) 35,000 to 39,999  1542.3110             (1) Interview   \n",
      "2     (10) 35,000 to 39,999  1542.3110             (1) Interview   \n",
      "3     (10) 35,000 to 39,999  1542.3110             (1) Interview   \n",
      "4     (10) 35,000 to 39,999  1542.3110             (1) Interview   \n",
      "...                     ...        ...                       ...   \n",
      "4995  (11) 40,000 to 49,999   327.2454             (1) Interview   \n",
      "4996                    NaN     0.0000  (3) Type B non-interview   \n",
      "4997  (11) 40,000 to 49,999   317.8372             (1) Interview   \n",
      "4998  (11) 40,000 to 49,999   317.8372             (1) Interview   \n",
      "4999   (16) 150,000 or more   287.2219             (1) Interview   \n",
      "\n",
      "             PREXPLF       PESEX             PENATVTY  PRTAGE  \\\n",
      "0       (1) Employed  (2) Female  (057) United States    21.0   \n",
      "1       (1) Employed    (1) Male  (057) United States    49.0   \n",
      "2                NaN    (1) Male  (057) United States     7.0   \n",
      "3                NaN  (2) Female  (057) United States     9.0   \n",
      "4                NaN  (2) Female  (057) United States    14.0   \n",
      "...              ...         ...                  ...     ...   \n",
      "4995  (2) Unemployed  (2) Female  (057) United States    28.0   \n",
      "4996             NaN         NaN                  NaN     NaN   \n",
      "4997             NaN    (1) Male  (057) United States    73.0   \n",
      "4998             NaN  (2) Female  (057) United States    66.0   \n",
      "4999             NaN  (2) Female  (057) United States    62.0   \n",
      "\n",
      "                                               PRDTOCC1    PWFMWGT   PWLGWGT  \\\n",
      "0     (22) Transportation and material moving occupa...  1836.3750  2626.141   \n",
      "1     (20) Installation, maintenance, and repair occ...  1542.3110  2205.888   \n",
      "2                                                   NaN  1639.2080     0.000   \n",
      "3                                                   NaN  1437.9370     0.000   \n",
      "4                                                   NaN  1601.8000     0.000   \n",
      "...                                                 ...        ...       ...   \n",
      "4995                 (16) Sales and related occupations   422.4906     0.000   \n",
      "4996                                                NaN     0.0000     0.000   \n",
      "4997                                                NaN   317.8372     0.000   \n",
      "4998                                                NaN   317.8372     0.000   \n",
      "4999                                                NaN   287.2219     0.000   \n",
      "\n",
      "       PWORWGT    PWSSWGT   PWVETWGT  \n",
      "0     7019.797  1836.3750  1750.3630  \n",
      "1     6132.680  1542.3110  1487.8250  \n",
      "2        0.000  1639.2080     0.0000  \n",
      "3        0.000  1437.9370     0.0000  \n",
      "4        0.000  1601.8000     0.0000  \n",
      "...        ...        ...        ...  \n",
      "4995     0.000   422.4906   349.7635  \n",
      "4996     0.000     0.0000     0.0000  \n",
      "4997     0.000   326.6135   331.9542  \n",
      "4998     0.000   317.8372   317.0855  \n",
      "4999     0.000   287.2219   289.5613  \n",
      "\n",
      "[5000 rows x 13 columns]\n"
     ]
    }
   ],
   "source": [
    "import pandas as pd\n",
    "def import_excel(file_path, sheet_name=0):\n",
    "    data_frame = pd.read_excel(file_path, sheet_name=sheet_name)\n",
    "    return data_frame\n",
    "\n",
    "if __name__ == '__main__':\n",
    "    excel_data = import_excel(r\"C:\\Users\\priya\\OneDrive\\Documents\\College Work\\ALY6140\\Population.xlsx\", sheet_name='Population')\n",
    "    print(excel_data) "
   ]
  },
  {
   "cell_type": "code",
   "execution_count": 58,
   "id": "80ea61b7",
   "metadata": {},
   "outputs": [
    {
     "name": "stdout",
     "output_type": "stream",
     "text": [
      "Dimensions of the dataset: (5000, 13)\n"
     ]
    }
   ],
   "source": [
    "# Get the dimensions\n",
    "dimensions = excel_data.shape\n",
    "print(\"Dimensions of the dataset:\", dimensions)\n"
   ]
  },
  {
   "cell_type": "code",
   "execution_count": 59,
   "id": "b0b577fe",
   "metadata": {},
   "outputs": [
    {
     "name": "stdout",
     "output_type": "stream",
     "text": [
      "First few rows of the dataset:\n",
      "                HEFAMINC   HWHHWGT       HRINTSTA       PREXPLF       PESEX  \\\n",
      "0  (04) 10,000 to 12,499  1836.375  (1) Interview  (1) Employed  (2) Female   \n",
      "1  (10) 35,000 to 39,999  1542.311  (1) Interview  (1) Employed    (1) Male   \n",
      "2  (10) 35,000 to 39,999  1542.311  (1) Interview           NaN    (1) Male   \n",
      "3  (10) 35,000 to 39,999  1542.311  (1) Interview           NaN  (2) Female   \n",
      "4  (10) 35,000 to 39,999  1542.311  (1) Interview           NaN  (2) Female   \n",
      "\n",
      "              PENATVTY  PRTAGE  \\\n",
      "0  (057) United States    21.0   \n",
      "1  (057) United States    49.0   \n",
      "2  (057) United States     7.0   \n",
      "3  (057) United States     9.0   \n",
      "4  (057) United States    14.0   \n",
      "\n",
      "                                            PRDTOCC1   PWFMWGT   PWLGWGT  \\\n",
      "0  (22) Transportation and material moving occupa...  1836.375  2626.141   \n",
      "1  (20) Installation, maintenance, and repair occ...  1542.311  2205.888   \n",
      "2                                                NaN  1639.208     0.000   \n",
      "3                                                NaN  1437.937     0.000   \n",
      "4                                                NaN  1601.800     0.000   \n",
      "\n",
      "    PWORWGT   PWSSWGT  PWVETWGT  \n",
      "0  7019.797  1836.375  1750.363  \n",
      "1  6132.680  1542.311  1487.825  \n",
      "2     0.000  1639.208     0.000  \n",
      "3     0.000  1437.937     0.000  \n",
      "4     0.000  1601.800     0.000  \n"
     ]
    }
   ],
   "source": [
    "# Display the first few rows of the dataset for a quick overview\n",
    "tempTbl = excel_data.head()\n",
    "print(\"First few rows of the dataset:\")\n",
    "print(excel_data.head())"
   ]
  },
  {
   "cell_type": "code",
   "execution_count": 60,
   "id": "1fb4e0b7",
   "metadata": {},
   "outputs": [
    {
     "name": "stdout",
     "output_type": "stream",
     "text": [
      "\n",
      "Income Distribution:\n",
      "count                     4179\n",
      "unique                      16\n",
      "top       (16) 150,000 or more\n",
      "freq                       522\n",
      "Name: HEFAMINC, dtype: object\n"
     ]
    }
   ],
   "source": [
    "# Questions to Investigate:\n",
    "# Income Distribution: What is the distribution of family income in the dataset?\n",
    "# 1. Income Distribution\n",
    "income_distribution = excel_data['HEFAMINC'].describe()\n",
    "print(\"\\nIncome Distribution:\")\n",
    "print(income_distribution)"
   ]
  },
  {
   "cell_type": "code",
   "execution_count": 61,
   "id": "05858a1d",
   "metadata": {},
   "outputs": [
    {
     "name": "stdout",
     "output_type": "stream",
     "text": [
      "\n",
      "Employment Status Distribution:\n",
      "PREXPLF\n",
      "(1) Employed      1886\n",
      "(2) Unemployed      67\n",
      "Name: count, dtype: int64\n"
     ]
    }
   ],
   "source": [
    "# 2. Employment Insights\n",
    "employment_status_counts = excel_data['PREXPLF'].value_counts()\n",
    "print(\"\\nEmployment Status Distribution:\")\n",
    "print(employment_status_counts)"
   ]
  },
  {
   "cell_type": "code",
   "execution_count": 62,
   "id": "1cfa00b5",
   "metadata": {},
   "outputs": [
    {
     "name": "stdout",
     "output_type": "stream",
     "text": [
      "\n",
      "Gender Distribution:\n",
      "PESEX\n",
      "(2) Female    2163\n",
      "(1) Male      2016\n",
      "Name: count, dtype: int64\n",
      "\n",
      "Average Age in the Dataset: 44.08686288585786\n"
     ]
    }
   ],
   "source": [
    "# 3. Demographic Analysis\n",
    "gender_distribution = excel_data['PESEX'].value_counts()\n",
    "average_age = excel_data['PRTAGE'].mean()\n",
    "print(\"\\nGender Distribution:\")\n",
    "print(gender_distribution)\n",
    "print(\"\\nAverage Age in the Dataset:\", average_age)\n"
   ]
  },
  {
   "cell_type": "code",
   "execution_count": 63,
   "id": "e24435b0",
   "metadata": {},
   "outputs": [
    {
     "name": "stdout",
     "output_type": "stream",
     "text": [
      "\n",
      "Country of Birth Distribution:\n",
      "PENATVTY\n",
      "(057) United States    3531\n",
      "(327) Cuba               45\n",
      "(073) Puerto Rico        45\n",
      "(207) China              43\n",
      "(303) Mexico             39\n",
      "                       ... \n",
      "(157) Lithuania           1\n",
      "(206) Cambodia            1\n",
      "(328) Dominica            1\n",
      "(102) Austria             1\n",
      "(310) Belize              1\n",
      "Name: count, Length: 93, dtype: int64\n"
     ]
    }
   ],
   "source": [
    "# 4. Country of Birth\n",
    "country_of_birth_distribution = excel_data['PENATVTY'].value_counts()\n",
    "print(\"\\nCountry of Birth Distribution:\")\n",
    "print(country_of_birth_distribution)"
   ]
  },
  {
   "cell_type": "code",
   "execution_count": 64,
   "id": "310172e6",
   "metadata": {},
   "outputs": [
    {
     "name": "stdout",
     "output_type": "stream",
     "text": [
      "\n",
      "Household Weight Distribution:\n",
      "count    5000.000000\n",
      "mean     2388.882525\n",
      "std      1494.271754\n",
      "min         0.000000\n",
      "25%      1004.822000\n",
      "50%      2904.956500\n",
      "75%      3460.504000\n",
      "max      9065.664000\n",
      "Name: HWHHWGT, dtype: float64\n",
      "\n",
      "Longitudinal Weight Distribution:\n",
      "count     5000.000000\n",
      "mean      2109.146015\n",
      "std       2391.514162\n",
      "min          0.000000\n",
      "25%          0.000000\n",
      "50%        493.154950\n",
      "75%       4508.279500\n",
      "max      12966.150000\n",
      "Name: PWLGWGT, dtype: float64\n"
     ]
    }
   ],
   "source": [
    "# 5. Weight Analysis\n",
    "household_weight_distribution = excel_data['HWHHWGT'].describe()\n",
    "longitudinal_weight_distribution = excel_data['PWLGWGT'].describe()\n",
    "print(\"\\nHousehold Weight Distribution:\")\n",
    "print(household_weight_distribution)\n",
    "print(\"\\nLongitudinal Weight Distribution:\")\n",
    "print(longitudinal_weight_distribution)"
   ]
  },
  {
   "cell_type": "code",
   "execution_count": 65,
   "id": "d742bd47",
   "metadata": {},
   "outputs": [
    {
     "name": "stdout",
     "output_type": "stream",
     "text": [
      "Summary Statistics for Numerical Variables:\n",
      "+-------+--------------------+-------------------+--------------------+--------------------+-------------------+\n",
      "|       |      HWHHWGT       |      PRTAGE       |      PWFMWGT       |      PWLGWGT       |      PWORWGT      |\n",
      "+-------+--------------------+-------------------+--------------------+--------------------+-------------------+\n",
      "| count |       5000.0       |      4179.0       |       5000.0       |       5000.0       |      5000.0       |\n",
      "| mean  |   2388.88252498    | 44.08686288585786 |   2423.03258354    |   2109.14601484    |   2264.14946154   |\n",
      "|  std  | 1494.2717542252772 | 23.62077460635923 | 1537.3503658973052 | 2391.5141623915642 | 5023.167621402594 |\n",
      "|  min  |        0.0         |        0.0        |        0.0         |        0.0         |        0.0        |\n",
      "|  25%  |      1004.822      |       24.0        |     979.526525     |        0.0         |        0.0        |\n",
      "|  50%  | 2904.9565000000002 |       46.0        |      2903.49       |     493.15495      |        0.0        |\n",
      "|  75%  |      3460.504      |       63.0        |     3520.6305      | 4508.279500000001  |        0.0        |\n",
      "|  max  |      9065.664      |       85.0        |      9639.847      |      12966.15      |     35534.11      |\n",
      "+-------+--------------------+-------------------+--------------------+--------------------+-------------------+\n"
     ]
    }
   ],
   "source": [
    "# Display summary statistics for numerical variables\n",
    "numerical_summary = excel_data[['HWHHWGT', 'PRTAGE', 'PWFMWGT','PWLGWGT','PWORWGT']].describe()\n",
    "formatted_table = tabulate(numerical_summary, headers='keys', tablefmt='pretty')\n",
    "print(\"Summary Statistics for Numerical Variables:\")\n",
    "print(formatted_table)"
   ]
  },
  {
   "cell_type": "code",
   "execution_count": 66,
   "id": "081d4354",
   "metadata": {},
   "outputs": [
    {
     "name": "stdout",
     "output_type": "stream",
     "text": [
      "\n",
      "Frequency Count and Proportions for Family Income:\n",
      "+-------------------------+-----------------+------------+\n",
      "|        HEFAMINC         | Frequency Count | Proportion |\n",
      "+-------------------------+-----------------+------------+\n",
      "|  (16) 150,000 or more   |       522       |   12.49%   |\n",
      "|  (13) 60,000 to 74,999  |       493       |   11.8%    |\n",
      "| (15) 100,000 to 149,999 |       484       |   11.58%   |\n",
      "|  (14) 75,000 to 99,999  |       409       |   9.79%    |\n",
      "|  (11) 40,000 to 49,999  |       392       |   9.38%    |\n",
      "|  (12) 50,000 to 59,999  |       318       |   7.61%    |\n",
      "|  (09) 30,000 to 34,999  |       249       |   5.96%    |\n",
      "|  (10) 35,000 to 39,999  |       248       |   5.93%    |\n",
      "|  (08) 25,000 to 29,999  |       245       |   5.86%    |\n",
      "|  (07) 20,000 to 24,999  |       219       |   5.24%    |\n",
      "|  (06) 15,000 to 19,999  |       169       |   4.04%    |\n",
      "|  (05) 12,500 to 14,999  |       123       |   2.94%    |\n",
      "|  (04) 10,000 to 12,499  |       98        |   2.35%    |\n",
      "|  (01) Less than $5,000  |       86        |   2.06%    |\n",
      "|   (03) 7,500 to 9,999   |       77        |   1.84%    |\n",
      "|   (02) 5,000 to 7,499   |       47        |   1.12%    |\n",
      "+-------------------------+-----------------+------------+\n"
     ]
    }
   ],
   "source": [
    "# Display frequency count and proportion for a categorical variable Family Income\n",
    "categorical_variable = 'HEFAMINC'\n",
    "frequency_count = excel_data[categorical_variable].value_counts()\n",
    "proportions = excel_data[categorical_variable].value_counts(normalize=True)\n",
    "family_table = pd.concat([frequency_count, proportions], axis=1)\n",
    "family_table.columns = ['Frequency Count', 'Proportion']\n",
    "family_table['Proportion'] = family_table['Proportion'].apply(lambda x: f\"{round(x * 100, 2)}%\")\n",
    "family_table = tabulate(family_table, headers='keys', tablefmt='pretty', showindex=True)\n",
    "print(\"\\nFrequency Count and Proportions for Family Income:\")\n",
    "print(family_table)\n",
    "\n",
    "# '','','','PRDTOCC1'"
   ]
  },
  {
   "cell_type": "code",
   "execution_count": 67,
   "id": "bf1a8732",
   "metadata": {},
   "outputs": [
    {
     "name": "stdout",
     "output_type": "stream",
     "text": [
      "\n",
      "Frequency Count and Proportions for Interview Status:\n",
      "+--------------------------+-----------------+------------+\n",
      "|         HRINTSTA         | Frequency Count | Proportion |\n",
      "+--------------------------+-----------------+------------+\n",
      "|      (1) Interview       |      4179       |   83.58%   |\n",
      "| (3) Type B non-interview |       801       |   16.02%   |\n",
      "| (2) Type A non-interview |       18        |   0.36%    |\n",
      "| (4) Type C non-interview |        2        |   0.04%    |\n",
      "+--------------------------+-----------------+------------+\n"
     ]
    }
   ],
   "source": [
    "# Display frequency count and proportion for a categorical variable Interview Status\n",
    "categorical_variable = 'HRINTSTA'\n",
    "frequency_count = excel_data[categorical_variable].value_counts()\n",
    "proportions = excel_data[categorical_variable].value_counts(normalize=True)\n",
    "interviewTabl = pd.concat([frequency_count, proportions], axis=1)\n",
    "interviewTabl.columns = ['Frequency Count', 'Proportion']\n",
    "interviewTabl['Proportion'] = interviewTabl['Proportion'].apply(lambda x: f\"{round(x * 100, 2)}%\")\n",
    "interviewTabl = tabulate(interviewTabl, headers='keys', tablefmt='pretty', showindex=True)\n",
    "print(\"\\nFrequency Count and Proportions for Interview Status:\")\n",
    "print(interviewTabl)"
   ]
  },
  {
   "cell_type": "code",
   "execution_count": 68,
   "id": "eac56325",
   "metadata": {},
   "outputs": [
    {
     "name": "stdout",
     "output_type": "stream",
     "text": [
      "\n",
      "Frequency Count and Proportions for Employment Status:\n",
      "+----------------+-----------------+------------+\n",
      "|    PREXPLF     | Frequency Count | Proportion |\n",
      "+----------------+-----------------+------------+\n",
      "|  (1) Employed  |      1886       |   96.57%   |\n",
      "| (2) Unemployed |       67        |   3.43%    |\n",
      "+----------------+-----------------+------------+\n"
     ]
    }
   ],
   "source": [
    "# Display frequency count and proportion for a categorical variable Employment Status\n",
    "categorical_variable = 'PREXPLF'\n",
    "frequency_count = excel_data[categorical_variable].value_counts()\n",
    "proportions = excel_data[categorical_variable].value_counts(normalize=True)\n",
    "employment_table = pd.concat([frequency_count, proportions], axis=1)\n",
    "employment_table.columns = ['Frequency Count', 'Proportion']\n",
    "employment_table['Proportion'] = employment_table['Proportion'].apply(lambda x: f\"{round(x * 100, 2)}%\")\n",
    "employment_table = tabulate(employment_table, headers='keys', tablefmt='pretty', showindex=True)\n",
    "\n",
    "print(\"\\nFrequency Count and Proportions for Employment Status:\")\n",
    "print(employment_table)"
   ]
  },
  {
   "cell_type": "code",
   "execution_count": 69,
   "id": "2de0ccea",
   "metadata": {},
   "outputs": [
    {
     "name": "stdout",
     "output_type": "stream",
     "text": [
      "\n",
      "Frequency Count and Proportions for Gender:\n",
      "+------------+-----------------+------------+\n",
      "|   PESEX    | Frequency Count | Proportion |\n",
      "+------------+-----------------+------------+\n",
      "| (2) Female |      2163       |   51.76%   |\n",
      "|  (1) Male  |      2016       |   48.24%   |\n",
      "+------------+-----------------+------------+\n"
     ]
    }
   ],
   "source": [
    "# Display frequency count and proportion for a categorical variable Gender\n",
    "categorical_variable = 'PESEX'\n",
    "frequency_count = excel_data[categorical_variable].value_counts()\n",
    "proportions = excel_data[categorical_variable].value_counts(normalize=True)\n",
    "gender_table = pd.concat([frequency_count, proportions], axis=1)\n",
    "gender_table.columns = ['Frequency Count', 'Proportion']\n",
    "gender_table['Proportion'] = gender_table['Proportion'].apply(lambda x: f\"{round(x * 100, 2)}%\")\n",
    "gender_table = tabulate(gender_table, headers='keys', tablefmt='pretty', showindex=True)\n",
    "\n",
    "print(\"\\nFrequency Count and Proportions for Gender:\")\n",
    "print(gender_table)"
   ]
  },
  {
   "cell_type": "code",
   "execution_count": 70,
   "id": "7407608e",
   "metadata": {},
   "outputs": [
    {
     "name": "stdout",
     "output_type": "stream",
     "text": [
      "\n",
      "Frequency Count and Proportions for Gender:\n",
      "+-----------------------------+-----------------+------------+\n",
      "|          PENATVTY           | Frequency Count | Proportion |\n",
      "+-----------------------------+-----------------+------------+\n",
      "|     (057) United States     |      3531       |   84.49%   |\n",
      "|         (327) Cuba          |       45        |   1.08%    |\n",
      "|      (073) Puerto Rico      |       45        |   1.08%    |\n",
      "|         (207) China         |       43        |   1.03%    |\n",
      "|        (303) Mexico         |       39        |   0.93%    |\n",
      "|         (210) India         |       33        |   0.79%    |\n",
      "|  (329) Dominican Republic   |       31        |   0.74%    |\n",
      "|        (333) Jamaica        |       24        |   0.57%    |\n",
      "|        (301) Canada         |       23        |   0.55%    |\n",
      "|        (247) Vietnam        |       21        |    0.5%    |\n",
      "|      (233) Philippines      |       20        |   0.48%    |\n",
      "|       (314) Honduras        |       18        |   0.43%    |\n",
      "|         (217) Korea         |       13        |   0.31%    |\n",
      "|       (364) Columbia        |       12        |   0.29%    |\n",
      "|         (332) Haiti         |       11        |   0.26%    |\n",
      "|        (110) Germany        |       10        |   0.24%    |\n",
      "|        (362) Brazil         |       10        |   0.24%    |\n",
      "|         (370) Peru          |        9        |   0.22%    |\n",
      "|         (134) Spain         |        9        |   0.22%    |\n",
      "|        (164) Ukraine        |        9        |   0.22%    |\n",
      "|       (407) Cameroon        |        9        |   0.22%    |\n",
      "|        (128) Poland         |        9        |   0.22%    |\n",
      "|       (211) Indonesia       |        8        |   0.19%    |\n",
      "|         (215) Japan         |        8        |   0.19%    |\n",
      "|        (163) Russia         |        8        |   0.19%    |\n",
      "|      (312) El Salvador      |        8        |   0.19%    |\n",
      "|       (373) Venezuela       |        7        |   0.17%    |\n",
      "|      (202) Bangladesh       |        7        |   0.17%    |\n",
      "|        (216) Jordan         |        6        |   0.14%    |\n",
      "|    (138) United Kingdom     |        6        |   0.14%    |\n",
      "|         (120) Italy         |        5        |   0.12%    |\n",
      "|        (365) Ecuador        |        5        |   0.12%    |\n",
      "|        (139) England        |        5        |   0.12%    |\n",
      "|        (119) Ireland        |        5        |   0.12%    |\n",
      "|         (212) Iran          |        5        |   0.12%    |\n",
      "|        (243) Turkey         |        5        |   0.12%    |\n",
      "|  (341) Trinidad and Tobago  |        5        |   0.12%    |\n",
      "|      (220) South Korea      |        4        |    0.1%    |\n",
      "|         (248) Yemen         |        4        |    0.1%    |\n",
      "|      (200) Afghanistan      |        4        |    0.1%    |\n",
      "|      (159) Azerbaijan       |        4        |    0.1%    |\n",
      "|        (117) Hungary        |        4        |    0.1%    |\n",
      "|        (457) Uganda         |        4        |    0.1%    |\n",
      "| (462) Africa, not specified |        4        |    0.1%    |\n",
      "|        (222) Kuwait         |        4        |    0.1%    |\n",
      "|        (240) Taiwan         |        4        |    0.1%    |\n",
      "|        (316) Panama         |        4        |    0.1%    |\n",
      "|       (360) Argentina       |        4        |    0.1%    |\n",
      "|         (229) Nepal         |        3        |   0.07%    |\n",
      "|        (440) Nigeria        |        3        |   0.07%    |\n",
      "|         (421) Ghana         |        3        |   0.07%    |\n",
      "|       (231) Pakistan        |        3        |   0.07%    |\n",
      "|       (313) Guatemala       |        3        |   0.07%    |\n",
      "|        (224) Lebanon        |        3        |   0.07%    |\n",
      "|         (165) USSR          |        3        |   0.07%    |\n",
      "|       (315) Nicaragua       |        3        |   0.07%    |\n",
      "|        (368) Guyana         |        2        |   0.05%    |\n",
      "|        (116) Greece         |        2        |   0.05%    |\n",
      "|       (152) Macedonia       |        2        |   0.05%    |\n",
      "| (150) Bosnia & Herzegovina  |        2        |   0.05%    |\n",
      "|         (427) Kenya         |        2        |   0.05%    |\n",
      "|         (414) Egypt         |        2        |   0.05%    |\n",
      "|     (235) Saudi Arabia      |        2        |   0.05%    |\n",
      "|       (209) Hong Kong       |        1        |   0.02%    |\n",
      "|      (147) Yugoslavia       |        1        |   0.02%    |\n",
      "|        (103) Belgium        |        1        |   0.02%    |\n",
      "|         (213) Iraq          |        1        |   0.02%    |\n",
      "|    (205) Myanmar (Burma)    |        1        |   0.02%    |\n",
      "|        (429) Liberia        |        1        |   0.02%    |\n",
      "|       (140) Scotland        |        1        |   0.02%    |\n",
      "|        (156) Latvia         |        1        |   0.02%    |\n",
      "|      (246) Uzbekistan       |        1        |   0.02%    |\n",
      "|         (363) Chile         |        1        |   0.02%    |\n",
      "|      (218) Kazakhstan       |        1        |   0.02%    |\n",
      "|        (132) Romania        |        1        |   0.02%    |\n",
      "|        (109) France         |        1        |   0.02%    |\n",
      "|       (369) Paraguay        |        1        |   0.02%    |\n",
      "|        (323) Bahamas        |        1        |   0.02%    |\n",
      "|      (126) Netherlands      |        1        |   0.02%    |\n",
      "|      (137) Switzerland      |        1        |   0.02%    |\n",
      "|       (555) Elsewhere       |        1        |   0.02%    |\n",
      "|        (108) Finland        |        1        |   0.02%    |\n",
      "|       (324) Barbados        |        1        |   0.02%    |\n",
      "| (078) U. S. Virgin Islands  |        1        |   0.02%    |\n",
      "|         (066) Guam          |        1        |   0.02%    |\n",
      "|        (417) Eritrea        |        1        |   0.02%    |\n",
      "|       (461) Zimbabwe        |        1        |   0.02%    |\n",
      "|     (447) Sierra Leone      |        1        |   0.02%    |\n",
      "|       (157) Lithuania       |        1        |   0.02%    |\n",
      "|       (206) Cambodia        |        1        |   0.02%    |\n",
      "|       (328) Dominica        |        1        |   0.02%    |\n",
      "|        (102) Austria        |        1        |   0.02%    |\n",
      "|        (310) Belize         |        1        |   0.02%    |\n",
      "+-----------------------------+-----------------+------------+\n"
     ]
    }
   ],
   "source": [
    "# Display frequency count and proportion for a categorical variable Gender\n",
    "categorical_variable = 'PENATVTY'\n",
    "frequency_count = excel_data[categorical_variable].value_counts()\n",
    "proportions = excel_data[categorical_variable].value_counts(normalize=True)\n",
    "gender_table = pd.concat([frequency_count, proportions], axis=1)\n",
    "gender_table.columns = ['Frequency Count', 'Proportion']\n",
    "gender_table['Proportion'] = gender_table['Proportion'].apply(lambda x: f\"{round(x * 100, 2)}%\")\n",
    "gender_table = tabulate(gender_table, headers='keys', tablefmt='pretty', showindex=True)\n",
    "\n",
    "print(\"\\nFrequency Count and Proportions for Gender:\")\n",
    "print(gender_table)"
   ]
  },
  {
   "cell_type": "code",
   "execution_count": 71,
   "id": "71fc9804",
   "metadata": {},
   "outputs": [],
   "source": [
    "import pandas as pd\n",
    "import numpy as np\n",
    "import matplotlib.pyplot as plt\n",
    "import seaborn as sns\n",
    "from sklearn.model_selection import train_test_split\n",
    "from sklearn.preprocessing import StandardScaler, LabelEncoder\n",
    "from sklearn.linear_model import LogisticRegression\n",
    "from sklearn.ensemble import RandomForestClassifier\n",
    "from sklearn.tree import DecisionTreeClassifier\n",
    "from sklearn.metrics import classification_report, confusion_matrix, accuracy_score\n",
    "\n"
   ]
  },
  {
   "cell_type": "code",
   "execution_count": 72,
   "id": "ae28bde1",
   "metadata": {},
   "outputs": [
    {
     "name": "stdout",
     "output_type": "stream",
     "text": [
      "count                     4179\n",
      "unique                      16\n",
      "top       (16) 150,000 or more\n",
      "freq                       522\n",
      "Name: HEFAMINC, dtype: object\n"
     ]
    },
    {
     "name": "stderr",
     "output_type": "stream",
     "text": [
      "C:\\Users\\priya\\anaconda3\\Lib\\site-packages\\seaborn\\_oldcore.py:1498: FutureWarning: is_categorical_dtype is deprecated and will be removed in a future version. Use isinstance(dtype, CategoricalDtype) instead\n",
      "  if pd.api.types.is_categorical_dtype(vector):\n",
      "C:\\Users\\priya\\anaconda3\\Lib\\site-packages\\seaborn\\_oldcore.py:1498: FutureWarning: is_categorical_dtype is deprecated and will be removed in a future version. Use isinstance(dtype, CategoricalDtype) instead\n",
      "  if pd.api.types.is_categorical_dtype(vector):\n",
      "C:\\Users\\priya\\anaconda3\\Lib\\site-packages\\seaborn\\_oldcore.py:1119: FutureWarning: use_inf_as_na option is deprecated and will be removed in a future version. Convert inf values to NaN before operating instead.\n",
      "  with pd.option_context('mode.use_inf_as_na', True):\n"
     ]
    },
    {
     "data": {
      "image/png": "[encoded data removed]",
      "text/plain": [
       "<Figure size 1200x600 with 1 Axes>"
      ]
     },
     "metadata": {},
     "output_type": "display_data"
    }
   ],
   "source": [
    "# Display basic statistics\n",
    "print(excel_data['HEFAMINC'].describe())\n",
    "\n",
    "# Visualizing the distribution of family income and Adjusting the number of bins and figure size\n",
    "plt.figure(figsize=(12, 6))\n",
    "sns.histplot(excel_data['HEFAMINC'], bins=50, kde=True)  # Increase the number of bins\n",
    "plt.title('Distribution of Family Income')\n",
    "plt.xlabel('Family Income')\n",
    "plt.ylabel('Count')\n",
    "plt.xticks(rotation=45)  # Rotate x-axis labels for better readability\n",
    "plt.show()"
   ]
  },
  {
   "cell_type": "code",
   "execution_count": 73,
   "id": "d20080ad",
   "metadata": {},
   "outputs": [],
   "source": [
    "# Assuming 'HEFAMINC' is the target variable\n",
    "y = excel_data['HEFAMINC']\n",
    "\n",
    "# Convert 'HEFAMINC' to numerical values using label encoding\n",
    "le = LabelEncoder()\n",
    "y = le.fit_transform(y)\n",
    "\n",
    "# Split the data into features (X) and target variable (y)\n",
    "X = excel_data[['PWFMWGT']]  # Using 'PWFMWGT' as the feature for simplicity\n",
    "\n",
    "# Split the data into training and testing sets\n",
    "X_train, X_test, y_train, y_test = train_test_split(X, y, test_size=0.2, random_state=42)\n",
    "\n",
    "# Standardize features\n",
    "scaler = StandardScaler()\n",
    "X_train_scaled = scaler.fit_transform(X_train)\n",
    "X_test_scaled = scaler.transform(X_test)\n"
   ]
  },
  {
   "cell_type": "code",
   "execution_count": 51,
   "id": "e343498b",
   "metadata": {},
   "outputs": [
    {
     "name": "stdout",
     "output_type": "stream",
     "text": [
      "Logistic Regression:\n",
      "[[  0   0   0   0   0   0   0   0   0   0   0   0   1   0   0  24   0]\n",
      " [  0   0   0   0   0   0   0   0   0   0   0   0   1   1   0   5   0]\n",
      " [  0   0   0   0   0   0   0   0   0   0   1   0   1   1   0  15   1]\n",
      " [  0   0   0   0   0   0   0   0   0   0   0   0   1   0   0  16   1]\n",
      " [  0   0   0   0   0   0   0   0   0   0   0   0   1   0   0  18   1]\n",
      " [  0   0   0   0   0   0   0   0   0   0   0   0   0   3   0  32   1]\n",
      " [  0   0   0   0   0   0   0   0   0   0   0   0   2   4   0  31   1]\n",
      " [  0   0   0   0   0   0   0   0   0   0   0   0   8   3   0  38   1]\n",
      " [  0   0   0   0   0   0   0   0   0   0   0   0   4   2   0  35   2]\n",
      " [  0   0   0   0   0   0   0   0   0   0   1   0   4   5   0  34   4]\n",
      " [  0   0   0   0   0   0   0   0   0   0   0   0   6   3   0  70   6]\n",
      " [  0   0   0   0   0   0   0   0   0   0   0   0   3   7   0  70   0]\n",
      " [  0   0   0   0   0   0   0   0   0   0   2   0   5   3   0  88   2]\n",
      " [  0   0   0   0   0   0   0   0   0   0   0   0   1   6   0  62   5]\n",
      " [  0   0   0   0   0   0   0   0   0   0   0   0   4   6   0  78   4]\n",
      " [  0   0   0   0   0   0   0   0   0   0   0   0   6   6   0  80   7]\n",
      " [  0   0   0   0   0   0   0   0   0   0   0   0   0   0   0   0 166]]\n",
      "              precision    recall  f1-score   support\n",
      "\n",
      "           0       0.00      0.00      0.00        25\n",
      "           1       0.00      0.00      0.00         7\n",
      "           2       0.00      0.00      0.00        19\n",
      "           3       0.00      0.00      0.00        18\n",
      "           4       0.00      0.00      0.00        20\n",
      "           5       0.00      0.00      0.00        36\n",
      "           6       0.00      0.00      0.00        38\n",
      "           7       0.00      0.00      0.00        50\n",
      "           8       0.00      0.00      0.00        43\n",
      "           9       0.00      0.00      0.00        48\n",
      "          10       0.00      0.00      0.00        85\n",
      "          11       0.00      0.00      0.00        80\n",
      "          12       0.10      0.05      0.07       100\n",
      "          13       0.12      0.08      0.10        74\n",
      "          14       0.00      0.00      0.00        92\n",
      "          15       0.11      0.81      0.20        99\n",
      "          16       0.82      1.00      0.90       166\n",
      "\n",
      "    accuracy                           0.26      1000\n",
      "   macro avg       0.07      0.11      0.07      1000\n",
      "weighted avg       0.17      0.26      0.18      1000\n",
      "\n",
      "Accuracy: 0.257\n"
     ]
    },
    {
     "name": "stderr",
     "output_type": "stream",
     "text": [
      "C:\\Users\\priya\\anaconda3\\Lib\\site-packages\\sklearn\\metrics\\_classification.py:1469: UndefinedMetricWarning: Precision and F-score are ill-defined and being set to 0.0 in labels with no predicted samples. Use `zero_division` parameter to control this behavior.\n",
      "  _warn_prf(average, modifier, msg_start, len(result))\n",
      "C:\\Users\\priya\\anaconda3\\Lib\\site-packages\\sklearn\\metrics\\_classification.py:1469: UndefinedMetricWarning: Precision and F-score are ill-defined and being set to 0.0 in labels with no predicted samples. Use `zero_division` parameter to control this behavior.\n",
      "  _warn_prf(average, modifier, msg_start, len(result))\n",
      "C:\\Users\\priya\\anaconda3\\Lib\\site-packages\\sklearn\\metrics\\_classification.py:1469: UndefinedMetricWarning: Precision and F-score are ill-defined and being set to 0.0 in labels with no predicted samples. Use `zero_division` parameter to control this behavior.\n",
      "  _warn_prf(average, modifier, msg_start, len(result))\n"
     ]
    }
   ],
   "source": [
    "# Build and train the model\n",
    "model_lr = LogisticRegression()\n",
    "model_lr.fit(X_train_scaled, y_train)\n",
    "\n",
    "# Make predictions\n",
    "y_pred_lr = model_lr.predict(X_test_scaled)\n",
    "\n",
    "# Evaluate the model\n",
    "print(\"Logistic Regression:\")\n",
    "print(confusion_matrix(y_test, y_pred_lr))\n",
    "print(classification_report(y_test, y_pred_lr))\n",
    "print(\"Accuracy:\", accuracy_score(y_test, y_pred_lr))\n"
   ]
  },
  {
   "cell_type": "code",
   "execution_count": 74,
   "id": "7e32a9f3",
   "metadata": {},
   "outputs": [
    {
     "name": "stdout",
     "output_type": "stream",
     "text": [
      "Decision Tree Classifier:\n",
      "[[  4   0   0   0   0   1   2   0   0   1   1   2   2   3   5   4   0]\n",
      " [  0   0   0   0   0   0   1   0   0   0   0   0   1   0   3   2   0]\n",
      " [  0   0   2   0   0   1   0   3   1   1   1   3   0   4   1   2   0]\n",
      " [  1   0   0   3   0   1   0   1   1   0   2   2   3   0   4   0   0]\n",
      " [  0   0   1   1   6   2   0   1   2   1   0   0   1   1   1   3   0]\n",
      " [  0   1   0   2   2   7   4   0   1   4   2   2   5   2   1   3   0]\n",
      " [  1   0   0   0   2   1  13   2   4   3   1   1   3   2   2   3   0]\n",
      " [  1   1   0   0   1   5   4  12   2   3   8   0   3   4   2   4   0]\n",
      " [  3   0   1   0   1   0   3   3  16   1   0   3   1   4   5   2   0]\n",
      " [  1   1   3   2   2   2   3   1   2  19   4   2   0   2   1   3   0]\n",
      " [  2   1   0   0   2   4   3   6   4   6  28   4   8   3   6   8   0]\n",
      " [  1   0   1   2   1   1   4   2   3   2   3  33  10   2   8   7   0]\n",
      " [  0   0   0   6   3   3   3   6   3   4   6   7  40   3   9   7   0]\n",
      " [  0   0   0   1   1   4   5   6   1   2   6   1   3  33   9   2   0]\n",
      " [  0   0   0   1   0   3   5   2   4   2   4   8   5  10  41   7   0]\n",
      " [  2   1   0   2   0   3   4   2   5   2   4   4   3   6   8  53   0]\n",
      " [  0   0   0   0   0   0   0   0   0   0   0   0   0   0   0   0 166]]\n",
      "              precision    recall  f1-score   support\n",
      "\n",
      "           0       0.25      0.16      0.20        25\n",
      "           1       0.00      0.00      0.00         7\n",
      "           2       0.25      0.11      0.15        19\n",
      "           3       0.15      0.17      0.16        18\n",
      "           4       0.29      0.30      0.29        20\n",
      "           5       0.18      0.19      0.19        36\n",
      "           6       0.24      0.34      0.28        38\n",
      "           7       0.26      0.24      0.25        50\n",
      "           8       0.33      0.37      0.35        43\n",
      "           9       0.37      0.40      0.38        48\n",
      "          10       0.40      0.33      0.36        85\n",
      "          11       0.46      0.41      0.43        80\n",
      "          12       0.45      0.40      0.43       100\n",
      "          13       0.42      0.45      0.43        74\n",
      "          14       0.39      0.45      0.41        92\n",
      "          15       0.48      0.54      0.51        99\n",
      "          16       1.00      1.00      1.00       166\n",
      "\n",
      "    accuracy                           0.48      1000\n",
      "   macro avg       0.35      0.34      0.34      1000\n",
      "weighted avg       0.48      0.48      0.47      1000\n",
      "\n",
      "Accuracy: 0.476\n"
     ]
    }
   ],
   "source": [
    "# Build and train the model\n",
    "model_dt = DecisionTreeClassifier()\n",
    "model_dt.fit(X_train, y_train)\n",
    "\n",
    "# Make predictions\n",
    "y_pred_dt = model_dt.predict(X_test)\n",
    "\n",
    "# Evaluate the model\n",
    "print(\"Decision Tree Classifier:\")\n",
    "print(confusion_matrix(y_test, y_pred_dt))\n",
    "print(classification_report(y_test, y_pred_dt))\n",
    "print(\"Accuracy:\", accuracy_score(y_test, y_pred_dt))"
   ]
  },
  {
   "cell_type": "code",
   "execution_count": 75,
   "id": "da50d463",
   "metadata": {},
   "outputs": [
    {
     "name": "stdout",
     "output_type": "stream",
     "text": [
      "Random Forest Classifier:\n",
      "[[  3   0   0   0   0   1   2   0   0   1   1   1   3   4   5   4   0]\n",
      " [  0   0   0   0   0   0   1   0   0   0   0   0   1   0   3   2   0]\n",
      " [  0   0   2   0   0   1   0   3   1   1   1   3   0   4   1   2   0]\n",
      " [  1   0   0   3   0   1   0   1   1   0   2   2   3   0   4   0   0]\n",
      " [  0   0   1   1   6   2   0   1   2   1   0   0   1   1   1   3   0]\n",
      " [  0   1   0   2   1   8   4   0   1   4   2   2   5   2   1   3   0]\n",
      " [  1   0   0   0   2   1  13   2   4   3   1   1   3   2   2   3   0]\n",
      " [  1   1   0   0   1   5   4  11   2   4   8   0   3   4   2   4   0]\n",
      " [  3   0   1   0   1   0   3   3  16   1   0   3   1   4   5   2   0]\n",
      " [  1   1   2   2   2   2   2   1   2  20   4   2   0   2   2   3   0]\n",
      " [  2   1   0   0   2   4   3   5   4   6  29   4   8   3   6   8   0]\n",
      " [  1   0   1   1   1   1   4   2   3   3   3  33  10   2   8   7   0]\n",
      " [  0   0   0   6   3   3   2   6   3   3   6   7  42   3   9   7   0]\n",
      " [  0   0   0   1   1   4   5   6   1   2   5   1   4  32  10   2   0]\n",
      " [  0   0   0   1   0   3   4   2   4   2   5   8   5  10  41   7   0]\n",
      " [  2   1   0   2   0   3   4   2   5   2   4   4   3   6   8  53   0]\n",
      " [  0   0   0   0   0   0   0   0   0   0   0   0   0   0   0   0 166]]\n",
      "              precision    recall  f1-score   support\n",
      "\n",
      "           0       0.20      0.12      0.15        25\n",
      "           1       0.00      0.00      0.00         7\n",
      "           2       0.29      0.11      0.15        19\n",
      "           3       0.16      0.17      0.16        18\n",
      "           4       0.30      0.30      0.30        20\n",
      "           5       0.21      0.22      0.21        36\n",
      "           6       0.25      0.34      0.29        38\n",
      "           7       0.24      0.22      0.23        50\n",
      "           8       0.33      0.37      0.35        43\n",
      "           9       0.38      0.42      0.40        48\n",
      "          10       0.41      0.34      0.37        85\n",
      "          11       0.46      0.41      0.44        80\n",
      "          12       0.46      0.42      0.44       100\n",
      "          13       0.41      0.43      0.42        74\n",
      "          14       0.38      0.45      0.41        92\n",
      "          15       0.48      0.54      0.51        99\n",
      "          16       1.00      1.00      1.00       166\n",
      "\n",
      "    accuracy                           0.48      1000\n",
      "   macro avg       0.35      0.34      0.34      1000\n",
      "weighted avg       0.48      0.48      0.48      1000\n",
      "\n",
      "Accuracy: 0.478\n"
     ]
    }
   ],
   "source": [
    "# Build and train the model\n",
    "model_rf = RandomForestClassifier()\n",
    "model_rf.fit(X_train, y_train)\n",
    "\n",
    "# Make predictions\n",
    "y_pred_rf = model_rf.predict(X_test)\n",
    "\n",
    "# Evaluate the model\n",
    "print(\"Random Forest Classifier:\")\n",
    "print(confusion_matrix(y_test, y_pred_rf))\n",
    "print(classification_report(y_test, y_pred_rf))\n",
    "print(\"Accuracy:\", accuracy_score(y_test, y_pred_rf))\n"
   ]
  },
  {
   "cell_type": "code",
   "execution_count": 76,
   "id": "f2cb1845",
   "metadata": {},
   "outputs": [
    {
     "data": {
      "image/png": "[encoded data removed]",
      "text/plain": [
       "<Figure size 640x480 with 1 Axes>"
      ]
     },
     "metadata": {},
     "output_type": "display_data"
    }
   ],
   "source": [
    "# Plot the accuracy of each model\n",
    "models = ['Logistic Regression', 'Decision Tree', 'Random Forest']\n",
    "accuracies = [\n",
    "    accuracy_score(y_test, y_pred_lr),\n",
    "    accuracy_score(y_test, y_pred_dt),\n",
    "    accuracy_score(y_test, y_pred_rf)\n",
    "]\n",
    "\n",
    "plt.bar(models, accuracies)\n",
    "plt.ylabel('Accuracy')\n",
    "plt.title('Model Comparison')\n",
    "plt.show()\n"
   ]
  },
  {
   "cell_type": "code",
   "execution_count": null,
   "id": "18abb8b4",
   "metadata": {},
   "outputs": [],
   "source": []
  }
 ],
 "metadata": {
  "kernelspec": {
   "display_name": "Python 3 (ipykernel)",
   "language": "python",
   "name": "python3"
  },
  "language_info": {
   "codemirror_mode": {
    "name": "ipython",
    "version": 3
   },
   "file_extension": ".py",
   "mimetype": "text/x-python",
   "name": "python",
   "nbconvert_exporter": "python",
   "pygments_lexer": "ipython3",
   "version": "3.11.5"
  }
 },
 "nbformat": 4,
 "nbformat_minor": 5
}
