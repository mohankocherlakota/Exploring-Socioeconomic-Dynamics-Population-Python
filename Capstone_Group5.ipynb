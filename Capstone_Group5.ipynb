{
 "cells": [
  {
   "cell_type": "code",
   "execution_count": 36,
   "id": "7cdf0ac6",
   "metadata": {},
   "outputs": [
    {
     "name": "stdout",
     "output_type": "stream",
     "text": [
      "Modules\n",
      "xlsx imported\n"
     ]
    }
   ],
   "source": [
    "import pandas as pd\n",
    "from tabulate import tabulate\n",
    "print(\"Modules\")\n",
    "def import_excel(file_path, sheet_name=0):\n",
    "    data_frame = pd.read_excel(file_path, sheet_name=sheet_name)\n",
    "    return data_frame\n",
    "\n",
    "if __name__ == '__main__':\n",
    "    df = import_excel(r\"C:\\Users\\priya\\OneDrive\\Documents\\College Work\\ALY6140\\Population.xlsx\", sheet_name='Population')\n",
    "print(\"xlsx imported\")"
   ]
  },
  {
   "cell_type": "code",
   "execution_count": 11,
   "id": "20e5d961",
   "metadata": {},
   "outputs": [
    {
     "name": "stdout",
     "output_type": "stream",
     "text": [
      "Initial Data Exploration:\n",
      "Dimensions of the dataset: (5000, 13)\n",
      "First Few rows of the dataset:\n",
      "                 HEFAMINC   HWHHWGT       HRINTSTA       PREXPLF       PESEX  \\\n",
      "0  (04) 10,000 to 12,499  1836.375  (1) Interview  (1) Employed  (2) Female   \n",
      "1  (10) 35,000 to 39,999  1542.311  (1) Interview  (1) Employed    (1) Male   \n",
      "2  (10) 35,000 to 39,999  1542.311  (1) Interview           NaN    (1) Male   \n",
      "3  (10) 35,000 to 39,999  1542.311  (1) Interview           NaN  (2) Female   \n",
      "4  (10) 35,000 to 39,999  1542.311  (1) Interview           NaN  (2) Female   \n",
      "\n",
      "              PENATVTY  PRTAGE  \\\n",
      "0  (057) United States    21.0   \n",
      "1  (057) United States    49.0   \n",
      "2  (057) United States     7.0   \n",
      "3  (057) United States     9.0   \n",
      "4  (057) United States    14.0   \n",
      "\n",
      "                                            PRDTOCC1   PWFMWGT   PWLGWGT  \\\n",
      "0  (22) Transportation and material moving occupa...  1836.375  2626.141   \n",
      "1  (20) Installation, maintenance, and repair occ...  1542.311  2205.888   \n",
      "2                                                NaN  1639.208     0.000   \n",
      "3                                                NaN  1437.937     0.000   \n",
      "4                                                NaN  1601.800     0.000   \n",
      "\n",
      "    PWORWGT   PWSSWGT  PWVETWGT  \n",
      "0  7019.797  1836.375  1750.363  \n",
      "1  6132.680  1542.311  1487.825  \n",
      "2     0.000  1639.208     0.000  \n",
      "3     0.000  1437.937     0.000  \n",
      "4     0.000  1601.800     0.000  \n"
     ]
    }
   ],
   "source": [
    "# Explore the data\n",
    "print(\"Initial Data Exploration:\")\n",
    "print(\"Dimensions of the dataset:\", df.shape)\n",
    "print(\"First Few rows of the dataset:\\n\",df.head())  "
   ]
  },
  {
   "cell_type": "code",
   "execution_count": 12,
   "id": "881e1978",
   "metadata": {},
   "outputs": [
    {
     "name": "stdout",
     "output_type": "stream",
     "text": [
      "<class 'pandas.core.frame.DataFrame'>\n",
      "RangeIndex: 5000 entries, 0 to 4999\n",
      "Data columns (total 13 columns):\n",
      " #   Column    Non-Null Count  Dtype  \n",
      "---  ------    --------------  -----  \n",
      " 0   HEFAMINC  4179 non-null   object \n",
      " 1   HWHHWGT   5000 non-null   float64\n",
      " 2   HRINTSTA  5000 non-null   object \n",
      " 3   PREXPLF   1953 non-null   object \n",
      " 4   PESEX     4179 non-null   object \n",
      " 5   PENATVTY  4179 non-null   object \n",
      " 6   PRTAGE    4179 non-null   float64\n",
      " 7   PRDTOCC1  1977 non-null   object \n",
      " 8   PWFMWGT   5000 non-null   float64\n",
      " 9   PWLGWGT   5000 non-null   float64\n",
      " 10  PWORWGT   5000 non-null   float64\n",
      " 11  PWSSWGT   5000 non-null   float64\n",
      " 12  PWVETWGT  5000 non-null   float64\n",
      "dtypes: float64(7), object(6)\n",
      "memory usage: 507.9+ KB\n",
      "Overview of columns and data types: \n",
      " None\n"
     ]
    }
   ],
   "source": [
    "print(\"Overview of columns and data types: \\n\",df.info())  # Overview of columns and data types"
   ]
  },
  {
   "cell_type": "code",
   "execution_count": 13,
   "id": "beb0f3af",
   "metadata": {},
   "outputs": [
    {
     "name": "stdout",
     "output_type": "stream",
     "text": [
      "           HWHHWGT       PRTAGE      PWFMWGT       PWLGWGT       PWORWGT  \\\n",
      "count  5000.000000  4179.000000  5000.000000   5000.000000   5000.000000   \n",
      "mean   2388.882525    44.086863  2423.032584   2109.146015   2264.149462   \n",
      "std    1494.271754    23.620775  1537.350366   2391.514162   5023.167621   \n",
      "min       0.000000     0.000000     0.000000      0.000000      0.000000   \n",
      "25%    1004.822000    24.000000   979.526525      0.000000      0.000000   \n",
      "50%    2904.956500    46.000000  2903.490000    493.154950      0.000000   \n",
      "75%    3460.504000    63.000000  3520.630500   4508.279500      0.000000   \n",
      "max    9065.664000    85.000000  9639.847000  12966.150000  35534.110000   \n",
      "\n",
      "           PWSSWGT     PWVETWGT  \n",
      "count  5000.000000  5000.000000  \n",
      "mean   2428.316236  2026.048672  \n",
      "std    1551.179002  1656.441150  \n",
      "min       0.000000     0.000000  \n",
      "25%     956.500625     0.000000  \n",
      "50%    2903.213000  2438.099000  \n",
      "75%    3541.087750  3391.083250  \n",
      "max    9639.847000  8923.480000  \n"
     ]
    }
   ],
   "source": [
    "print(df.describe())  # Summary statistics for numerical columns"
   ]
  },
  {
   "cell_type": "code",
   "execution_count": 14,
   "id": "b0650d10",
   "metadata": {},
   "outputs": [
    {
     "name": "stdout",
     "output_type": "stream",
     "text": [
      "<class 'pandas.core.frame.DataFrame'>\n",
      "RangeIndex: 5000 entries, 0 to 4999\n",
      "Data columns (total 13 columns):\n",
      " #   Column    Non-Null Count  Dtype   \n",
      "---  ------    --------------  -----   \n",
      " 0   HEFAMINC  4179 non-null   category\n",
      " 1   HWHHWGT   5000 non-null   float64 \n",
      " 2   HRINTSTA  5000 non-null   category\n",
      " 3   PREXPLF   1953 non-null   category\n",
      " 4   PESEX     4179 non-null   category\n",
      " 5   PENATVTY  4179 non-null   category\n",
      " 6   PRTAGE    4179 non-null   float64 \n",
      " 7   PRDTOCC1  1977 non-null   category\n",
      " 8   PWFMWGT   5000 non-null   float64 \n",
      " 9   PWLGWGT   5000 non-null   float64 \n",
      " 10  PWORWGT   5000 non-null   float64 \n",
      " 11  PWSSWGT   5000 non-null   float64 \n",
      " 12  PWVETWGT  5000 non-null   float64 \n",
      "dtypes: category(6), float64(7)\n",
      "memory usage: 307.5 KB\n",
      "None\n"
     ]
    }
   ],
   "source": [
    "# Example: Convert object columns to categorical types\n",
    "object_columns = df.select_dtypes(include=['object']).columns\n",
    "df[object_columns] = df[object_columns].astype('category')\n",
    "\n",
    "# Example: Convert numeric columns to appropriate types for reduced memory usage\n",
    "# Assuming the columns contain integers\n",
    "numeric_columns = df.select_dtypes(include=['int64']).columns\n",
    "df[numeric_columns] = df[numeric_columns].apply(pd.to_numeric, downcast='integer')\n",
    "\n",
    "# Check memory usage after these changes\n",
    "print(df.info())"
   ]
  },
  {
   "cell_type": "code",
   "execution_count": 15,
   "id": "0ed97fd3",
   "metadata": {},
   "outputs": [
    {
     "name": "stdout",
     "output_type": "stream",
     "text": [
      "downloaded clean data\n",
      "copied clean data\n"
     ]
    }
   ],
   "source": [
    "df.to_excel('cleaned_file.xlsx', index=False) \n",
    "print(\"downloaded clean data\")\n",
    "# Keep a reference to the cleaned DataFrame\n",
    "cleaned_df = df.copy() \n",
    "print(\"copied clean data\")"
   ]
  },
  {
   "cell_type": "code",
   "execution_count": 27,
   "id": "0cb257e7",
   "metadata": {},
   "outputs": [
    {
     "name": "stdout",
     "output_type": "stream",
     "text": [
      "Descriptive statistics for numerical columns of cleaned data: \n",
      "            HWHHWGT       PRTAGE      PWFMWGT       PWLGWGT       PWORWGT  \\\n",
      "count  1953.000000  1953.000000  1953.000000   1953.000000   1953.000000   \n",
      "mean   2884.643383    44.428571  2925.417785   3036.478127   3185.208741   \n",
      "std    1180.538405    14.832436  1204.099014   2414.669989   5749.988658   \n",
      "min     218.118300    15.000000   218.118300      0.000000      0.000000   \n",
      "25%    2287.148000    31.000000  2286.821000      0.000000      0.000000   \n",
      "50%    3180.513000    45.000000  3194.599000   3712.906000      0.000000   \n",
      "75%    3603.659000    56.000000  3669.188000   4993.365000   3619.404000   \n",
      "max    9065.664000    85.000000  9065.664000  12966.150000  35534.110000   \n",
      "\n",
      "           PWSSWGT     PWVETWGT  \n",
      "count  1953.000000  1953.000000  \n",
      "mean   2952.988104  2940.535442  \n",
      "std    1226.654383  1242.717813  \n",
      "min     179.501200     0.000000  \n",
      "25%    2311.349000  2288.561000  \n",
      "50%    3223.578000  3180.591000  \n",
      "75%    3708.326000  3697.253000  \n",
      "max    9065.664000  8923.480000  \n"
     ]
    }
   ],
   "source": [
    "num_summary = cleaned_df.describe()\n",
    "print(\"Descriptive statistics for numerical columns of cleaned data: \\n\", num_summary)"
   ]
  },
  {
   "cell_type": "code",
   "execution_count": 14,
   "id": "1af02b08",
   "metadata": {},
   "outputs": [
    {
     "name": "stdout",
     "output_type": "stream",
     "text": [
      "Value counts or percentages for categorical columns of cleaned data: \n",
      "                                                     HEFAMINC  HRINTSTA  \\\n",
      "(01) Less than $5,000                               0.020579       NaN   \n",
      "(01) Management occupations                              NaN       NaN   \n",
      "(02) 5,000 to 7,499                                 0.011247       NaN   \n",
      "(02) Business and financial operations occupations       NaN       NaN   \n",
      "(03) 7,500 to 9,999                                 0.018425       NaN   \n",
      "...                                                      ...       ...   \n",
      "(447) Sierra Leone                                       NaN       NaN   \n",
      "(457) Uganda                                             NaN       NaN   \n",
      "(461) Zimbabwe                                           NaN       NaN   \n",
      "(462) Africa, not specified                              NaN       NaN   \n",
      "(555) Elsewhere                                          NaN       NaN   \n",
      "\n",
      "                                                    PREXPLF  PESEX  PENATVTY  \\\n",
      "(01) Less than $5,000                                   NaN    NaN       NaN   \n",
      "(01) Management occupations                             NaN    NaN       NaN   \n",
      "(02) 5,000 to 7,499                                     NaN    NaN       NaN   \n",
      "(02) Business and financial operations occupations      NaN    NaN       NaN   \n",
      "(03) 7,500 to 9,999                                     NaN    NaN       NaN   \n",
      "...                                                     ...    ...       ...   \n",
      "(447) Sierra Leone                                      NaN    NaN  0.000239   \n",
      "(457) Uganda                                            NaN    NaN  0.000957   \n",
      "(461) Zimbabwe                                          NaN    NaN  0.000239   \n",
      "(462) Africa, not specified                             NaN    NaN  0.000957   \n",
      "(555) Elsewhere                                         NaN    NaN  0.000239   \n",
      "\n",
      "                                                    PRDTOCC1  \n",
      "(01) Less than $5,000                                    NaN  \n",
      "(01) Management occupations                         0.105210  \n",
      "(02) 5,000 to 7,499                                      NaN  \n",
      "(02) Business and financial operations occupations  0.053111  \n",
      "(03) 7,500 to 9,999                                      NaN  \n",
      "...                                                      ...  \n",
      "(447) Sierra Leone                                       NaN  \n",
      "(457) Uganda                                             NaN  \n",
      "(461) Zimbabwe                                           NaN  \n",
      "(462) Africa, not specified                              NaN  \n",
      "(555) Elsewhere                                          NaN  \n",
      "\n",
      "[139 rows x 6 columns]\n"
     ]
    }
   ],
   "source": [
    "cat_summary = cleaned_df.select_dtypes(include='category').apply(lambda x: x.value_counts(normalize=True))\n",
    "print(\"Value counts or percentages for categorical columns of cleaned data: \\n\", cat_summary)"
   ]
  },
  {
   "cell_type": "code",
   "execution_count": 28,
   "id": "4009231e",
   "metadata": {},
   "outputs": [
    {
     "name": "stdout",
     "output_type": "stream",
     "text": [
      "Cross-tabulation between 'PREXPLF' and 'PESEX':\n",
      "PESEX           (1) Male  (2) Female\n",
      "PREXPLF                             \n",
      "(1) Employed         956         930\n",
      "(2) Unemployed        35          32\n"
     ]
    }
   ],
   "source": [
    "# Cross-tabulation example\n",
    "cross_tab = pd.crosstab(cleaned_df['PREXPLF'], cleaned_df['PESEX'])\n",
    "print(\"Cross-tabulation between 'PREXPLF' and 'PESEX':\")\n",
    "print(cross_tab)"
   ]
  },
  {
   "cell_type": "code",
   "execution_count": 29,
   "id": "65003b21",
   "metadata": {},
   "outputs": [
    {
     "data": {
      "image/png": "[encoded data removed]",
      "text/plain": [
       "<Figure size 800x600 with 1 Axes>"
      ]
     },
     "metadata": {},
     "output_type": "display_data"
    }
   ],
   "source": [
    "import matplotlib.pyplot as plt\n",
    "\n",
    "# Histogram for 'PRTAGE' column\n",
    "plt.figure(figsize=(8, 6))\n",
    "plt.hist(cleaned_df['PRTAGE'], bins=20, color='orange', edgecolor='black')\n",
    "plt.xlabel('PRTAGE')\n",
    "plt.ylabel('Frequency')\n",
    "plt.title('Distribution of PRTAGE Column')\n",
    "plt.grid(True)\n",
    "plt.show()"
   ]
  },
  {
   "cell_type": "code",
   "execution_count": 21,
   "id": "646f537a",
   "metadata": {},
   "outputs": [
    {
     "data": {
      "image/png": "[encoded data removed]",
      "text/plain": [
       "<Figure size 800x600 with 1 Axes>"
      ]
     },
     "metadata": {},
     "output_type": "display_data"
    }
   ],
   "source": [
    "# HWHHWGT column for the boxplot\n",
    "plt.figure(figsize=(8, 6))\n",
    "plt.boxplot(cleaned_df['HWHHWGT'].dropna(), vert=False)\n",
    "plt.title(f'Boxplot for HWHHWGT')\n",
    "plt.xlabel('Values')\n",
    "plt.grid(True)\n",
    "plt.show()"
   ]
  },
  {
   "cell_type": "code",
   "execution_count": 24,
   "id": "24eb69da",
   "metadata": {},
   "outputs": [
    {
     "data": {
      "image/png": "[encoded data removed]",
      "text/plain": [
       "<Figure size 800x600 with 1 Axes>"
      ]
     },
     "metadata": {},
     "output_type": "display_data"
    }
   ],
   "source": [
    "# PWFMWGT column for the boxplot\n",
    "plt.figure(figsize=(8, 6))\n",
    "plt.boxplot(cleaned_df['PWFMWGT'].dropna(), vert=False)\n",
    "plt.title(f'Boxplot for PWFMWGT')\n",
    "plt.xlabel('Values')\n",
    "plt.grid(True)\n",
    "plt.show()"
   ]
  },
  {
   "cell_type": "code",
   "execution_count": 30,
   "id": "f6c44654",
   "metadata": {
    "scrolled": true
   },
   "outputs": [
    {
     "data": {
      "image/png": "[encoded data removed]",
      "text/plain": [
       "<Figure size 800x600 with 1 Axes>"
      ]
     },
     "metadata": {},
     "output_type": "display_data"
    }
   ],
   "source": [
    "# Bar plot for 'HRINTSTA'\n",
    "plt.figure(figsize=(8, 6))\n",
    "cleaned_df['HRINTSTA'].value_counts().plot(kind='bar', color='skyblue')\n",
    "plt.title('Distribution of HRINTSTA')\n",
    "plt.xlabel('Categories')\n",
    "plt.ylabel('Count')\n",
    "plt.xticks(rotation=45)\n",
    "plt.grid(axis='y')\n",
    "plt.show()"
   ]
  },
  {
   "cell_type": "code",
   "execution_count": 32,
   "id": "1b6f0295",
   "metadata": {},
   "outputs": [
    {
     "data": {
      "image/png": "[encoded data removed]",
      "text/plain": [
       "<Figure size 800x600 with 1 Axes>"
      ]
     },
     "metadata": {},
     "output_type": "display_data"
    }
   ],
   "source": [
    "# Pie chart for 'PESEX'\n",
    "plt.figure(figsize=(8, 6))\n",
    "cleaned_df['PESEX'].value_counts().plot(kind='pie', autopct='%1.1f%%', startangle=140)\n",
    "plt.title('Distribution of PESEX')\n",
    "plt.axis('equal')\n",
    "plt.show()"
   ]
  },
  {
   "cell_type": "code",
   "execution_count": 33,
   "id": "c43ec880",
   "metadata": {},
   "outputs": [
    {
     "name": "stdout",
     "output_type": "stream",
     "text": [
      "<bound method DataFrame.info of         HWHHWGT  PRTAGE    PWFMWGT   PWLGWGT    PWORWGT    PWSSWGT   PWVETWGT\n",
      "0     1836.3750    21.0  1836.3750  2626.141   7019.797  1836.3750  1750.3630\n",
      "1     1542.3110    49.0  1542.3110  2205.888   6132.680  1542.3110  1487.8250\n",
      "8     1545.2180    39.0  1822.2650  2606.291   6991.386  1822.2650  1710.3140\n",
      "9     1750.6510    63.0  1750.6510  2503.550   7096.749  1750.6510  1685.6740\n",
      "10    1750.6510    28.0  2692.8380  3851.426  10529.690  2692.8380  2644.2620\n",
      "...         ...     ...        ...       ...        ...        ...        ...\n",
      "4986   374.3395    24.0   420.8798     0.000      0.000   420.8798   404.5069\n",
      "4990   332.1811    61.0   332.1811     0.000      0.000   364.4034   356.6211\n",
      "4993   327.2454    59.0   327.2454     0.000      0.000   356.4985   352.5192\n",
      "4994   327.2454    58.0   327.2454     0.000      0.000   327.2454   328.7071\n",
      "4995   327.2454    28.0   422.4906     0.000      0.000   422.4906   349.7635\n",
      "\n",
      "[1953 rows x 7 columns]>\n"
     ]
    }
   ],
   "source": [
    "import pandas as pd\n",
    "from sklearn.linear_model import LinearRegression\n",
    "from sklearn.impute import SimpleImputer\n",
    "from sklearn.model_selection import train_test_split\n",
    "\n",
    "# Fill missing values with mean (you can change this strategy if needed)\n",
    "cleaned_numeric = cleaned_df.select_dtypes(include=['number'])\n",
    "cleaned_numeric = cleaned_numeric.fillna(cleaned_numeric.mean())\n",
    "print(cleaned_numeric.info)"
   ]
  },
  {
   "cell_type": "code",
   "execution_count": 34,
   "id": "94c4395a",
   "metadata": {},
   "outputs": [
    {
     "name": "stdout",
     "output_type": "stream",
     "text": [
      "                            OLS Regression Results                            \n",
      "==============================================================================\n",
      "Dep. Variable:                PWSSWGT   R-squared:                       0.952\n",
      "Model:                            OLS   Adj. R-squared:                  0.952\n",
      "Method:                 Least Squares   F-statistic:                 1.282e+04\n",
      "Date:                Tue, 05 Dec 2023   Prob (F-statistic):               0.00\n",
      "Time:                        14:08:28   Log-Likelihood:                -13700.\n",
      "No. Observations:                1953   AIC:                         2.741e+04\n",
      "Df Residuals:                    1949   BIC:                         2.743e+04\n",
      "Df Model:                           3                                         \n",
      "Covariance Type:            nonrobust                                         \n",
      "==============================================================================\n",
      "                 coef    std err          t      P>|t|      [0.025      0.975]\n",
      "------------------------------------------------------------------------------\n",
      "const        120.1314     25.589      4.695      0.000      69.947     170.315\n",
      "HWHHWGT        0.0413      0.019      2.136      0.033       0.003       0.079\n",
      "PWFMWGT        0.9526      0.019     50.027      0.000       0.915       0.990\n",
      "PRTAGE        -1.6451      0.422     -3.903      0.000      -2.472      -0.818\n",
      "==============================================================================\n",
      "Omnibus:                     2464.682   Durbin-Watson:                   2.018\n",
      "Prob(Omnibus):                  0.000   Jarque-Bera (JB):           845527.014\n",
      "Skew:                           6.398   Prob(JB):                         0.00\n",
      "Kurtosis:                     104.128   Cond. No.                     1.86e+04\n",
      "==============================================================================\n",
      "\n",
      "Notes:\n",
      "[1] Standard Errors assume that the covariance matrix of the errors is correctly specified.\n",
      "[2] The condition number is large, 1.86e+04. This might indicate that there are\n",
      "strong multicollinearity or other numerical problems.\n"
     ]
    }
   ],
   "source": [
    "import pandas as pd\n",
    "import statsmodels.api as sm\n",
    "\n",
    "\n",
    "# Drop rows with missing values\n",
    "cleaned_df = cleaned_df.dropna(subset=['HWHHWGT', 'PWFMWGT', 'PRTAGE', 'PWSSWGT'])\n",
    "\n",
    "# Prepare the data for regression\n",
    "X = cleaned_df[['HWHHWGT', 'PWFMWGT', 'PRTAGE']]\n",
    "y = cleaned_df['PWSSWGT']\n",
    "X = sm.add_constant(X)  # Add a constant term for intercept\n",
    "\n",
    "# Fit the linear regression model\n",
    "model = sm.OLS(y, X).fit()\n",
    "\n",
    "# Print the regression summary\n",
    "print(model.summary())\n",
    "\n",
    "\n",
    "\n",
    "\n"
   ]
  },
  {
   "cell_type": "code",
   "execution_count": 35,
   "id": "5cb439c8",
   "metadata": {},
   "outputs": [
    {
     "name": "stdout",
     "output_type": "stream",
     "text": [
      "                precision    recall  f1-score   support\n",
      "\n",
      "  (1) Employed       0.96      1.00      0.98       377\n",
      "(2) Unemployed       0.00      0.00      0.00        14\n",
      "\n",
      "      accuracy                           0.96       391\n",
      "     macro avg       0.48      0.50      0.49       391\n",
      "  weighted avg       0.93      0.96      0.95       391\n",
      "\n",
      "[[377   0]\n",
      " [ 14   0]]\n"
     ]
    },
    {
     "name": "stderr",
     "output_type": "stream",
     "text": [
      "C:\\Users\\priya\\anaconda3\\Lib\\site-packages\\sklearn\\metrics\\_classification.py:1469: UndefinedMetricWarning: Precision and F-score are ill-defined and being set to 0.0 in labels with no predicted samples. Use `zero_division` parameter to control this behavior.\n",
      "  _warn_prf(average, modifier, msg_start, len(result))\n",
      "C:\\Users\\priya\\anaconda3\\Lib\\site-packages\\sklearn\\metrics\\_classification.py:1469: UndefinedMetricWarning: Precision and F-score are ill-defined and being set to 0.0 in labels with no predicted samples. Use `zero_division` parameter to control this behavior.\n",
      "  _warn_prf(average, modifier, msg_start, len(result))\n",
      "C:\\Users\\priya\\anaconda3\\Lib\\site-packages\\sklearn\\metrics\\_classification.py:1469: UndefinedMetricWarning: Precision and F-score are ill-defined and being set to 0.0 in labels with no predicted samples. Use `zero_division` parameter to control this behavior.\n",
      "  _warn_prf(average, modifier, msg_start, len(result))\n"
     ]
    }
   ],
   "source": [
    "from sklearn.model_selection import train_test_split\n",
    "from sklearn.linear_model import LogisticRegression\n",
    "from sklearn.metrics import classification_report, confusion_matrix\n",
    "\n",
    "# Drop rows with missing values\n",
    "cleaned_df = cleaned_df.dropna(subset=['HWHHWGT', 'PRTAGE', 'PREXPLF'])\n",
    "\n",
    "# Assuming we want to predict PREXPLF (employment status) using some features\n",
    "X = cleaned_df[['HWHHWGT', 'PRTAGE']]\n",
    "y = cleaned_df['PREXPLF']\n",
    "\n",
    "# Spliting the data into training and testing sets\n",
    "X_train, X_test, y_train, y_test = train_test_split(X, y, test_size=0.2, random_state=42)\n",
    "\n",
    "# Fit logistic regression model\n",
    "logreg = LogisticRegression()\n",
    "logreg.fit(X_train, y_train)\n",
    "\n",
    "# Making predictions on the test set\n",
    "y_pred = logreg.predict(X_test)\n",
    "\n",
    "# Print classification report and confusion matrix\n",
    "print(classification_report(y_test, y_pred))\n",
    "print(confusion_matrix(y_test, y_pred))\n"
   ]
  },
  {
   "cell_type": "code",
   "execution_count": 24,
   "id": "76493500",
   "metadata": {},
   "outputs": [
    {
     "name": "stdout",
     "output_type": "stream",
     "text": [
      "Coefficients: [ 0.04128686  0.95263669 -1.64040944]\n"
     ]
    }
   ],
   "source": [
    "from sklearn.linear_model import Lasso\n",
    "\n",
    "# Assuming you want to predict HEFAMINC using some features\n",
    "X = cleaned_df[['HWHHWGT', 'PWFMWGT', 'PRTAGE']]\n",
    "y = cleaned_df['PWSSWGT']\n",
    "\n",
    "# Fit Lasso regression model\n",
    "lasso = Lasso(alpha=1.0)\n",
    "lasso.fit(X, y)\n",
    "\n",
    "# Print the coefficients\n",
    "print(\"Coefficients:\", lasso.coef_)\n"
   ]
  },
  {
   "cell_type": "code",
   "execution_count": 25,
   "id": "4c53a3c6",
   "metadata": {},
   "outputs": [
    {
     "name": "stdout",
     "output_type": "stream",
     "text": [
      "|--- HWHHWGT <= 4604.87\n",
      "|   |--- PRTAGE <= 25.50\n",
      "|   |   |--- HWHHWGT <= 3733.76\n",
      "|   |   |   |--- HWHHWGT <= 3721.72\n",
      "|   |   |   |   |--- HWHHWGT <= 929.61\n",
      "|   |   |   |   |   |--- PRTAGE <= 16.50\n",
      "|   |   |   |   |   |   |--- class: (2) Unemployed\n",
      "|   |   |   |   |   |--- PRTAGE >  16.50\n",
      "|   |   |   |   |   |   |--- PRTAGE <= 24.50\n",
      "|   |   |   |   |   |   |   |--- class: (1) Employed\n",
      "|   |   |   |   |   |   |--- PRTAGE >  24.50\n",
      "|   |   |   |   |   |   |   |--- HWHHWGT <= 455.84\n",
      "|   |   |   |   |   |   |   |   |--- class: (1) Employed\n",
      "|   |   |   |   |   |   |   |--- HWHHWGT >  455.84\n",
      "|   |   |   |   |   |   |   |   |--- class: (2) Unemployed\n",
      "|   |   |   |   |--- HWHHWGT >  929.61\n",
      "|   |   |   |   |   |--- HWHHWGT <= 2214.90\n",
      "|   |   |   |   |   |   |--- class: (1) Employed\n",
      "|   |   |   |   |   |--- HWHHWGT >  2214.90\n",
      "|   |   |   |   |   |   |--- HWHHWGT <= 2223.81\n",
      "|   |   |   |   |   |   |   |--- class: (2) Unemployed\n",
      "|   |   |   |   |   |   |--- HWHHWGT >  2223.81\n",
      "|   |   |   |   |   |   |   |--- PRTAGE <= 24.50\n",
      "|   |   |   |   |   |   |   |   |--- PRTAGE <= 23.50\n",
      "|   |   |   |   |   |   |   |   |   |--- HWHHWGT <= 2692.66\n",
      "|   |   |   |   |   |   |   |   |   |   |--- HWHHWGT <= 2615.87\n",
      "|   |   |   |   |   |   |   |   |   |   |   |--- truncated branch of depth 4\n",
      "|   |   |   |   |   |   |   |   |   |   |--- HWHHWGT >  2615.87\n",
      "|   |   |   |   |   |   |   |   |   |   |   |--- class: (2) Unemployed\n",
      "|   |   |   |   |   |   |   |   |   |--- HWHHWGT >  2692.66\n",
      "|   |   |   |   |   |   |   |   |   |   |--- PRTAGE <= 21.50\n",
      "|   |   |   |   |   |   |   |   |   |   |   |--- truncated branch of depth 8\n",
      "|   |   |   |   |   |   |   |   |   |   |--- PRTAGE >  21.50\n",
      "|   |   |   |   |   |   |   |   |   |   |   |--- class: (1) Employed\n",
      "|   |   |   |   |   |   |   |   |--- PRTAGE >  23.50\n",
      "|   |   |   |   |   |   |   |   |   |--- HWHHWGT <= 3303.46\n",
      "|   |   |   |   |   |   |   |   |   |   |--- class: (1) Employed\n",
      "|   |   |   |   |   |   |   |   |   |--- HWHHWGT >  3303.46\n",
      "|   |   |   |   |   |   |   |   |   |   |--- HWHHWGT <= 3355.97\n",
      "|   |   |   |   |   |   |   |   |   |   |   |--- class: (2) Unemployed\n",
      "|   |   |   |   |   |   |   |   |   |   |--- HWHHWGT >  3355.97\n",
      "|   |   |   |   |   |   |   |   |   |   |   |--- truncated branch of depth 5\n",
      "|   |   |   |   |   |   |   |--- PRTAGE >  24.50\n",
      "|   |   |   |   |   |   |   |   |--- class: (1) Employed\n",
      "|   |   |   |--- HWHHWGT >  3721.72\n",
      "|   |   |   |   |--- class: (2) Unemployed\n",
      "|   |   |--- HWHHWGT >  3733.76\n",
      "|   |   |   |--- HWHHWGT <= 4173.82\n",
      "|   |   |   |   |--- class: (1) Employed\n",
      "|   |   |   |--- HWHHWGT >  4173.82\n",
      "|   |   |   |   |--- HWHHWGT <= 4226.67\n",
      "|   |   |   |   |   |--- class: (1) Employed\n",
      "|   |   |   |   |--- HWHHWGT >  4226.67\n",
      "|   |   |   |   |   |--- class: (1) Employed\n",
      "|   |--- PRTAGE >  25.50\n",
      "|   |   |--- HWHHWGT <= 223.50\n",
      "|   |   |   |--- PRTAGE <= 58.50\n",
      "|   |   |   |   |--- class: (2) Unemployed\n",
      "|   |   |   |--- PRTAGE >  58.50\n",
      "|   |   |   |   |--- class: (1) Employed\n",
      "|   |   |--- HWHHWGT >  223.50\n",
      "|   |   |   |--- HWHHWGT <= 3572.97\n",
      "|   |   |   |   |--- PRTAGE <= 50.50\n",
      "|   |   |   |   |   |--- HWHHWGT <= 752.64\n",
      "|   |   |   |   |   |   |--- HWHHWGT <= 742.25\n",
      "|   |   |   |   |   |   |   |--- HWHHWGT <= 319.37\n",
      "|   |   |   |   |   |   |   |   |--- class: (1) Employed\n",
      "|   |   |   |   |   |   |   |--- HWHHWGT >  319.37\n",
      "|   |   |   |   |   |   |   |   |--- HWHHWGT <= 322.83\n",
      "|   |   |   |   |   |   |   |   |   |--- class: (2) Unemployed\n",
      "|   |   |   |   |   |   |   |   |--- HWHHWGT >  322.83\n",
      "|   |   |   |   |   |   |   |   |   |--- HWHHWGT <= 329.37\n",
      "|   |   |   |   |   |   |   |   |   |   |--- HWHHWGT <= 326.17\n",
      "|   |   |   |   |   |   |   |   |   |   |   |--- class: (1) Employed\n",
      "|   |   |   |   |   |   |   |   |   |   |--- HWHHWGT >  326.17\n",
      "|   |   |   |   |   |   |   |   |   |   |   |--- class: (2) Unemployed\n",
      "|   |   |   |   |   |   |   |   |   |--- HWHHWGT >  329.37\n",
      "|   |   |   |   |   |   |   |   |   |   |--- HWHHWGT <= 704.71\n",
      "|   |   |   |   |   |   |   |   |   |   |   |--- class: (1) Employed\n",
      "|   |   |   |   |   |   |   |   |   |   |--- HWHHWGT >  704.71\n",
      "|   |   |   |   |   |   |   |   |   |   |   |--- truncated branch of depth 4\n",
      "|   |   |   |   |   |   |--- HWHHWGT >  742.25\n",
      "|   |   |   |   |   |   |   |--- PRTAGE <= 46.00\n",
      "|   |   |   |   |   |   |   |   |--- class: (2) Unemployed\n",
      "|   |   |   |   |   |   |   |--- PRTAGE >  46.00\n",
      "|   |   |   |   |   |   |   |   |--- class: (1) Employed\n",
      "|   |   |   |   |   |--- HWHHWGT >  752.64\n",
      "|   |   |   |   |   |   |--- HWHHWGT <= 2879.32\n",
      "|   |   |   |   |   |   |   |--- class: (1) Employed\n",
      "|   |   |   |   |   |   |--- HWHHWGT >  2879.32\n",
      "|   |   |   |   |   |   |   |--- HWHHWGT <= 2881.86\n",
      "|   |   |   |   |   |   |   |   |--- class: (2) Unemployed\n",
      "|   |   |   |   |   |   |   |--- HWHHWGT >  2881.86\n",
      "|   |   |   |   |   |   |   |   |--- HWHHWGT <= 3129.02\n",
      "|   |   |   |   |   |   |   |   |   |--- class: (1) Employed\n",
      "|   |   |   |   |   |   |   |   |--- HWHHWGT >  3129.02\n",
      "|   |   |   |   |   |   |   |   |   |--- HWHHWGT <= 3135.95\n",
      "|   |   |   |   |   |   |   |   |   |   |--- class: (2) Unemployed\n",
      "|   |   |   |   |   |   |   |   |   |--- HWHHWGT >  3135.95\n",
      "|   |   |   |   |   |   |   |   |   |   |--- HWHHWGT <= 3171.38\n",
      "|   |   |   |   |   |   |   |   |   |   |   |--- truncated branch of depth 2\n",
      "|   |   |   |   |   |   |   |   |   |   |--- HWHHWGT >  3171.38\n",
      "|   |   |   |   |   |   |   |   |   |   |   |--- truncated branch of depth 6\n",
      "|   |   |   |   |--- PRTAGE >  50.50\n",
      "|   |   |   |   |   |--- PRTAGE <= 58.50\n",
      "|   |   |   |   |   |   |--- HWHHWGT <= 3436.44\n",
      "|   |   |   |   |   |   |   |--- HWHHWGT <= 3432.78\n",
      "|   |   |   |   |   |   |   |   |--- HWHHWGT <= 896.81\n",
      "|   |   |   |   |   |   |   |   |   |--- class: (1) Employed\n",
      "|   |   |   |   |   |   |   |   |--- HWHHWGT >  896.81\n",
      "|   |   |   |   |   |   |   |   |   |--- HWHHWGT <= 956.69\n",
      "|   |   |   |   |   |   |   |   |   |   |--- class: (2) Unemployed\n",
      "|   |   |   |   |   |   |   |   |   |--- HWHHWGT >  956.69\n",
      "|   |   |   |   |   |   |   |   |   |   |--- HWHHWGT <= 1847.91\n",
      "|   |   |   |   |   |   |   |   |   |   |   |--- class: (1) Employed\n",
      "|   |   |   |   |   |   |   |   |   |   |--- HWHHWGT >  1847.91\n",
      "|   |   |   |   |   |   |   |   |   |   |   |--- truncated branch of depth 10\n",
      "|   |   |   |   |   |   |   |--- HWHHWGT >  3432.78\n",
      "|   |   |   |   |   |   |   |   |--- class: (2) Unemployed\n",
      "|   |   |   |   |   |   |--- HWHHWGT >  3436.44\n",
      "|   |   |   |   |   |   |   |--- class: (1) Employed\n",
      "|   |   |   |   |   |--- PRTAGE >  58.50\n",
      "|   |   |   |   |   |   |--- HWHHWGT <= 3525.09\n",
      "|   |   |   |   |   |   |   |--- HWHHWGT <= 2732.94\n",
      "|   |   |   |   |   |   |   |   |--- HWHHWGT <= 2435.75\n",
      "|   |   |   |   |   |   |   |   |   |--- class: (1) Employed\n",
      "|   |   |   |   |   |   |   |   |--- HWHHWGT >  2435.75\n",
      "|   |   |   |   |   |   |   |   |   |--- HWHHWGT <= 2450.29\n",
      "|   |   |   |   |   |   |   |   |   |   |--- class: (2) Unemployed\n",
      "|   |   |   |   |   |   |   |   |   |--- HWHHWGT >  2450.29\n",
      "|   |   |   |   |   |   |   |   |   |   |--- HWHHWGT <= 2728.46\n",
      "|   |   |   |   |   |   |   |   |   |   |   |--- truncated branch of depth 6\n",
      "|   |   |   |   |   |   |   |   |   |   |--- HWHHWGT >  2728.46\n",
      "|   |   |   |   |   |   |   |   |   |   |   |--- truncated branch of depth 2\n",
      "|   |   |   |   |   |   |   |--- HWHHWGT >  2732.94\n",
      "|   |   |   |   |   |   |   |   |--- class: (1) Employed\n",
      "|   |   |   |   |   |   |--- HWHHWGT >  3525.09\n",
      "|   |   |   |   |   |   |   |--- HWHHWGT <= 3536.53\n",
      "|   |   |   |   |   |   |   |   |--- class: (2) Unemployed\n",
      "|   |   |   |   |   |   |   |--- HWHHWGT >  3536.53\n",
      "|   |   |   |   |   |   |   |   |--- class: (1) Employed\n",
      "|   |   |   |--- HWHHWGT >  3572.97\n",
      "|   |   |   |   |--- HWHHWGT <= 3574.23\n",
      "|   |   |   |   |   |--- class: (2) Unemployed\n",
      "|   |   |   |   |--- HWHHWGT >  3574.23\n",
      "|   |   |   |   |   |--- PRTAGE <= 38.50\n",
      "|   |   |   |   |   |   |--- PRTAGE <= 26.50\n",
      "|   |   |   |   |   |   |   |--- HWHHWGT <= 3742.62\n",
      "|   |   |   |   |   |   |   |   |--- HWHHWGT <= 3736.93\n",
      "|   |   |   |   |   |   |   |   |   |--- class: (1) Employed\n",
      "|   |   |   |   |   |   |   |   |--- HWHHWGT >  3736.93\n",
      "|   |   |   |   |   |   |   |   |   |--- class: (2) Unemployed\n",
      "|   |   |   |   |   |   |   |--- HWHHWGT >  3742.62\n",
      "|   |   |   |   |   |   |   |   |--- class: (1) Employed\n",
      "|   |   |   |   |   |   |--- PRTAGE >  26.50\n",
      "|   |   |   |   |   |   |   |--- HWHHWGT <= 4291.61\n",
      "|   |   |   |   |   |   |   |   |--- class: (1) Employed\n",
      "|   |   |   |   |   |   |   |--- HWHHWGT >  4291.61\n",
      "|   |   |   |   |   |   |   |   |--- HWHHWGT <= 4320.53\n",
      "|   |   |   |   |   |   |   |   |   |--- class: (2) Unemployed\n",
      "|   |   |   |   |   |   |   |   |--- HWHHWGT >  4320.53\n",
      "|   |   |   |   |   |   |   |   |   |--- class: (1) Employed\n",
      "|   |   |   |   |   |--- PRTAGE >  38.50\n",
      "|   |   |   |   |   |   |--- PRTAGE <= 43.50\n",
      "|   |   |   |   |   |   |   |--- HWHHWGT <= 3748.56\n",
      "|   |   |   |   |   |   |   |   |--- HWHHWGT <= 3662.51\n",
      "|   |   |   |   |   |   |   |   |   |--- class: (1) Employed\n",
      "|   |   |   |   |   |   |   |   |--- HWHHWGT >  3662.51\n",
      "|   |   |   |   |   |   |   |   |   |--- HWHHWGT <= 3706.41\n",
      "|   |   |   |   |   |   |   |   |   |   |--- PRTAGE <= 39.50\n",
      "|   |   |   |   |   |   |   |   |   |   |   |--- class: (2) Unemployed\n",
      "|   |   |   |   |   |   |   |   |   |   |--- PRTAGE >  39.50\n",
      "|   |   |   |   |   |   |   |   |   |   |   |--- class: (1) Employed\n",
      "|   |   |   |   |   |   |   |   |   |--- HWHHWGT >  3706.41\n",
      "|   |   |   |   |   |   |   |   |   |   |--- class: (2) Unemployed\n",
      "|   |   |   |   |   |   |   |--- HWHHWGT >  3748.56\n",
      "|   |   |   |   |   |   |   |   |--- HWHHWGT <= 4357.25\n",
      "|   |   |   |   |   |   |   |   |   |--- class: (1) Employed\n",
      "|   |   |   |   |   |   |   |   |--- HWHHWGT >  4357.25\n",
      "|   |   |   |   |   |   |   |   |   |--- HWHHWGT <= 4360.21\n",
      "|   |   |   |   |   |   |   |   |   |   |--- class: (2) Unemployed\n",
      "|   |   |   |   |   |   |   |   |   |--- HWHHWGT >  4360.21\n",
      "|   |   |   |   |   |   |   |   |   |   |--- class: (1) Employed\n",
      "|   |   |   |   |   |   |--- PRTAGE >  43.50\n",
      "|   |   |   |   |   |   |   |--- HWHHWGT <= 3632.45\n",
      "|   |   |   |   |   |   |   |   |--- HWHHWGT <= 3631.69\n",
      "|   |   |   |   |   |   |   |   |   |--- PRTAGE <= 60.50\n",
      "|   |   |   |   |   |   |   |   |   |   |--- HWHHWGT <= 3589.10\n",
      "|   |   |   |   |   |   |   |   |   |   |   |--- truncated branch of depth 2\n",
      "|   |   |   |   |   |   |   |   |   |   |--- HWHHWGT >  3589.10\n",
      "|   |   |   |   |   |   |   |   |   |   |   |--- class: (1) Employed\n",
      "|   |   |   |   |   |   |   |   |   |--- PRTAGE >  60.50\n",
      "|   |   |   |   |   |   |   |   |   |   |--- PRTAGE <= 62.00\n",
      "|   |   |   |   |   |   |   |   |   |   |   |--- class: (2) Unemployed\n",
      "|   |   |   |   |   |   |   |   |   |   |--- PRTAGE >  62.00\n",
      "|   |   |   |   |   |   |   |   |   |   |   |--- class: (1) Employed\n",
      "|   |   |   |   |   |   |   |   |--- HWHHWGT >  3631.69\n",
      "|   |   |   |   |   |   |   |   |   |--- class: (2) Unemployed\n",
      "|   |   |   |   |   |   |   |--- HWHHWGT >  3632.45\n",
      "|   |   |   |   |   |   |   |   |--- HWHHWGT <= 3948.47\n",
      "|   |   |   |   |   |   |   |   |   |--- PRTAGE <= 45.50\n",
      "|   |   |   |   |   |   |   |   |   |   |--- PRTAGE <= 44.50\n",
      "|   |   |   |   |   |   |   |   |   |   |   |--- class: (1) Employed\n",
      "|   |   |   |   |   |   |   |   |   |   |--- PRTAGE >  44.50\n",
      "|   |   |   |   |   |   |   |   |   |   |   |--- truncated branch of depth 2\n",
      "|   |   |   |   |   |   |   |   |   |--- PRTAGE >  45.50\n",
      "|   |   |   |   |   |   |   |   |   |   |--- HWHHWGT <= 3652.38\n",
      "|   |   |   |   |   |   |   |   |   |   |   |--- truncated branch of depth 3\n",
      "|   |   |   |   |   |   |   |   |   |   |--- HWHHWGT >  3652.38\n",
      "|   |   |   |   |   |   |   |   |   |   |   |--- class: (1) Employed\n",
      "|   |   |   |   |   |   |   |   |--- HWHHWGT >  3948.47\n",
      "|   |   |   |   |   |   |   |   |   |--- HWHHWGT <= 3986.17\n",
      "|   |   |   |   |   |   |   |   |   |   |--- PRTAGE <= 48.00\n",
      "|   |   |   |   |   |   |   |   |   |   |   |--- class: (1) Employed\n",
      "|   |   |   |   |   |   |   |   |   |   |--- PRTAGE >  48.00\n",
      "|   |   |   |   |   |   |   |   |   |   |   |--- class: (2) Unemployed\n",
      "|   |   |   |   |   |   |   |   |   |--- HWHHWGT >  3986.17\n",
      "|   |   |   |   |   |   |   |   |   |   |--- PRTAGE <= 66.00\n",
      "|   |   |   |   |   |   |   |   |   |   |   |--- truncated branch of depth 3\n",
      "|   |   |   |   |   |   |   |   |   |   |--- PRTAGE >  66.00\n",
      "|   |   |   |   |   |   |   |   |   |   |   |--- truncated branch of depth 3\n",
      "|--- HWHHWGT >  4604.87\n",
      "|   |--- HWHHWGT <= 4627.46\n",
      "|   |   |--- class: (2) Unemployed\n",
      "|   |--- HWHHWGT >  4627.46\n",
      "|   |   |--- PRTAGE <= 47.50\n",
      "|   |   |   |--- PRTAGE <= 20.50\n",
      "|   |   |   |   |--- HWHHWGT <= 5481.24\n",
      "|   |   |   |   |   |--- class: (1) Employed\n",
      "|   |   |   |   |--- HWHHWGT >  5481.24\n",
      "|   |   |   |   |   |--- class: (2) Unemployed\n",
      "|   |   |   |--- PRTAGE >  20.50\n",
      "|   |   |   |   |--- HWHHWGT <= 4654.53\n",
      "|   |   |   |   |   |--- PRTAGE <= 32.50\n",
      "|   |   |   |   |   |   |--- class: (2) Unemployed\n",
      "|   |   |   |   |   |--- PRTAGE >  32.50\n",
      "|   |   |   |   |   |   |--- class: (1) Employed\n",
      "|   |   |   |   |--- HWHHWGT >  4654.53\n",
      "|   |   |   |   |   |--- HWHHWGT <= 4888.51\n",
      "|   |   |   |   |   |   |--- HWHHWGT <= 4850.11\n",
      "|   |   |   |   |   |   |   |--- class: (1) Employed\n",
      "|   |   |   |   |   |   |--- HWHHWGT >  4850.11\n",
      "|   |   |   |   |   |   |   |--- HWHHWGT <= 4856.35\n",
      "|   |   |   |   |   |   |   |   |--- class: (2) Unemployed\n",
      "|   |   |   |   |   |   |   |--- HWHHWGT >  4856.35\n",
      "|   |   |   |   |   |   |   |   |--- HWHHWGT <= 4862.73\n",
      "|   |   |   |   |   |   |   |   |   |--- class: (1) Employed\n",
      "|   |   |   |   |   |   |   |   |--- HWHHWGT >  4862.73\n",
      "|   |   |   |   |   |   |   |   |   |--- class: (1) Employed\n",
      "|   |   |   |   |   |--- HWHHWGT >  4888.51\n",
      "|   |   |   |   |   |   |--- class: (1) Employed\n",
      "|   |   |--- PRTAGE >  47.50\n",
      "|   |   |   |--- PRTAGE <= 52.50\n",
      "|   |   |   |   |--- HWHHWGT <= 4741.43\n",
      "|   |   |   |   |   |--- class: (2) Unemployed\n",
      "|   |   |   |   |--- HWHHWGT >  4741.43\n",
      "|   |   |   |   |   |--- PRTAGE <= 51.50\n",
      "|   |   |   |   |   |   |--- class: (1) Employed\n",
      "|   |   |   |   |   |--- PRTAGE >  51.50\n",
      "|   |   |   |   |   |   |--- class: (2) Unemployed\n",
      "|   |   |   |--- PRTAGE >  52.50\n",
      "|   |   |   |   |--- class: (1) Employed\n",
      "\n"
     ]
    }
   ],
   "source": [
    "from sklearn.tree import DecisionTreeClassifier, export_text\n",
    "\n",
    "# Assuming you want to predict PREXPLF using some features\n",
    "X = cleaned_df[['HWHHWGT', 'PRTAGE']]\n",
    "y = cleaned_df['PREXPLF']\n",
    "\n",
    "# Fit Decision Tree model\n",
    "dt_model = DecisionTreeClassifier()\n",
    "dt_model.fit(X, y)\n",
    "\n",
    "# Display the decision tree\n",
    "tree_rules = export_text(dt_model, feature_names=list(X.columns))\n",
    "print(tree_rules)\n"
   ]
  },
  {
   "cell_type": "code",
   "execution_count": null,
   "id": "1741de27",
   "metadata": {},
   "outputs": [],
   "source": []
  }
 ],
 "metadata": {
  "kernelspec": {
   "display_name": "Python 3 (ipykernel)",
   "language": "python",
   "name": "python3"
  },
  "language_info": {
   "codemirror_mode": {
    "name": "ipython",
    "version": 3
   },
   "file_extension": ".py",
   "mimetype": "text/x-python",
   "name": "python",
   "nbconvert_exporter": "python",
   "pygments_lexer": "ipython3",
   "version": "3.11.5"
  }
 },
 "nbformat": 4,
 "nbformat_minor": 5
}
